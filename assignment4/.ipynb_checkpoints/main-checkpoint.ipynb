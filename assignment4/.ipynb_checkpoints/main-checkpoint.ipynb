{
 "cells": [
  {
   "cell_type": "code",
   "id": "initial_id",
   "metadata": {
    "collapsed": true
   },
   "source": [
    "import tensorflow as tf\n",
    "from tensorflow.keras.preprocessing.image import ImageDataGenerator\n",
    "from tensorflow.keras.applications import ResNet50, VGG16\n",
    "from tensorflow.keras.models import Model\n",
    "from tensorflow.keras.layers import Dense, GlobalAveragePooling2D\n",
    "from sklearn.model_selection import train_test_split, cross_val_score\n",
    "from sklearn.svm import SVC\n",
    "from sklearn.neighbors import KNeighborsClassifier\n",
    "from sklearn.tree import DecisionTreeClassifier\n",
    "from sklearn.ensemble import RandomForestClassifier\n",
    "import cv2\n",
    "import numpy as np\n",
    "import os\n"
   ],
   "outputs": [],
   "execution_count": null
  },
  {
   "metadata": {},
   "cell_type": "code",
   "source": [
    "# Ensure TensorFlow is using GPU\n",
    "physical_devices = tf.config.experimental.list_physical_devices('GPU')\n",
    "if physical_devices:\n",
    "    tf.config.experimental.set_memory_growth(physical_devices[0], True)\n",
    "    print(\"GPU is available and enabled.\")\n",
    "else:\n",
    "    print(\"No GPU found. Running on CPU.\")"
   ],
   "id": "9c554595a2840fde",
   "outputs": [],
   "execution_count": null
  },
  {
   "metadata": {},
   "cell_type": "code",
   "source": [
    "# Define dataset directory\n",
    "dataset_dir = \"dataset\"  # Adjust as necessary\n",
    "img_size = (224, 224)\n",
    "batch_size = 32\n"
   ],
   "id": "5631181c85e8a685",
   "outputs": [],
   "execution_count": null
  },
  {
   "metadata": {},
   "cell_type": "code",
   "source": [
    "# Data Augmentation & Preprocessing\n",
    "datagen = ImageDataGenerator(\n",
    "    rescale=1.0 / 255,\n",
    "    validation_split=0.2,\n",
    "    horizontal_flip=True,\n",
    "    rotation_range=20,\n",
    "    zoom_range=0.2\n",
    ")\n",
    "\n",
    "train_generator = datagen.flow_from_directory(\n",
    "    dataset_dir,\n",
    "    target_size=img_size,\n",
    "    batch_size=batch_size,\n",
    "    class_mode='categorical',\n",
    "    subset='training'\n",
    ")\n",
    "\n",
    "val_generator = datagen.flow_from_directory(\n",
    "    dataset_dir,\n",
    "    target_size=img_size,\n",
    "    batch_size=batch_size,\n",
    "    class_mode='categorical',\n",
    "    subset='validation'\n",
    ")"
   ],
   "id": "d7fa849a46d7de7a",
   "outputs": [],
   "execution_count": null
  },
  {
   "metadata": {},
   "cell_type": "code",
   "source": [
    "def create_model(base_model):\n",
    "    base_model.trainable = False\n",
    "    global_avg_pool = GlobalAveragePooling2D()(base_model.output)\n",
    "    output_layer = Dense(len(train_generator.class_indices), activation='softmax')(global_avg_pool)\n",
    "    model = Model(inputs=base_model.input, outputs=output_layer)\n",
    "    model.compile(optimizer='adam', loss='categorical_crossentropy', metrics=['accuracy'])\n",
    "    return model\n",
    "\n",
    "resnet_model = create_model(ResNet50(weights='imagenet', include_top=False, input_shape=(224, 224, 3)))\n",
    "vgg_model = create_model(VGG16(weights='imagenet', include_top=False, input_shape=(224, 224, 3)))"
   ],
   "id": "b0f32100b59648ed",
   "outputs": [],
   "execution_count": null
  },
  {
   "metadata": {},
   "cell_type": "code",
   "source": [
    "# Train ResNet50 Model\n",
    "resnet_model.fit(\n",
    "    train_generator,\n",
    "    validation_data=val_generator,\n",
    "    epochs=10,\n",
    "    verbose=1\n",
    ")\n",
    "resnet_model.save(\"apple_classifier_resnet50.h5\")"
   ],
   "id": "748dd849936d4035",
   "outputs": [],
   "execution_count": null
  },
  {
   "metadata": {},
   "cell_type": "code",
   "outputs": [],
   "execution_count": null,
   "source": [
    "# Train VGG16 Model\n",
    "vgg_model.fit(\n",
    "    train_generator,\n",
    "    validation_data=val_generator,\n",
    "    epochs=10,\n",
    "    verbose=1\n",
    ")\n",
    "vgg_model.save(\"apple_classifier_vgg16.h5\")"
   ],
   "id": "1d7c5a6c671f73e7"
  },
  {
   "metadata": {},
   "cell_type": "code",
   "source": [
    "# Feature Extraction using SURF or ORB\n",
    "def extract_features(img_dir, use_surf=True):\n",
    "    feature_extractor = cv2.xfeatures2d.SURF_create() if use_surf else cv2.ORB_create()\n",
    "    features, labels = [], []\n",
    "    class_labels = os.listdir(img_dir)\n",
    "    for label in class_labels:\n",
    "        class_path = os.path.join(img_dir, label)\n",
    "        for img_name in os.listdir(class_path):\n",
    "            img_path = os.path.join(class_path, img_name)\n",
    "            img = cv2.imread(img_path, cv2.IMREAD_GRAYSCALE)\n",
    "            img = cv2.resize(img, (224, 224))\n",
    "            keypoints, descriptors = feature_extractor.detectAndCompute(img, None)\n",
    "            if descriptors is not None:\n",
    "                features.append(descriptors.flatten())\n",
    "                labels.append(label)\n",
    "    return np.array(features, dtype=object), np.array(labels)"
   ],
   "id": "60ef57bbea0ac27a",
   "outputs": [],
   "execution_count": null
  },
  {
   "metadata": {},
   "cell_type": "code",
   "outputs": [],
   "execution_count": null,
   "source": [
    "X, y = extract_features(dataset_dir, use_surf=True)\n",
    "X_train, X_test, y_train, y_test = train_test_split(X, y, test_size=0.2, random_state=42)"
   ],
   "id": "e661c28207897ca8"
  },
  {
   "metadata": {},
   "cell_type": "code",
   "outputs": [],
   "execution_count": null,
   "source": [
    "# Apply ML models\n",
    "models = {\n",
    "    \"SVM\": SVC(kernel='linear'),\n",
    "    \"KNN\": KNeighborsClassifier(n_neighbors=3),\n",
    "    \"Decision Tree\": DecisionTreeClassifier(),\n",
    "    \"Random Forest\": RandomForestClassifier(n_estimators=100)\n",
    "}\n",
    "\n",
    "for name, clf in models.items():\n",
    "    scores = cross_val_score(clf, X_train, y_train, cv=5)\n",
    "    print(f\"{name} Accuracy: {scores.mean():.4f}\")"
   ],
   "id": "8b862d9bf04c609d"
  }
 ],
 "metadata": {
  "kernelspec": {
   "display_name": "Python 3",
   "language": "python",
   "name": "python3"
  },
  "language_info": {
   "codemirror_mode": {
    "name": "ipython",
    "version": 2
   },
   "file_extension": ".py",
   "mimetype": "text/x-python",
   "name": "python",
   "nbconvert_exporter": "python",
   "pygments_lexer": "ipython2",
   "version": "2.7.6"
  }
 },
 "nbformat": 4,
 "nbformat_minor": 5
}
