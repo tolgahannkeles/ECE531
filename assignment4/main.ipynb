{
 "cells": [
  {
   "cell_type": "code",
   "id": "initial_id",
   "metadata": {
    "ExecuteTime": {
     "end_time": "2025-04-04T11:05:53.348269Z",
     "start_time": "2025-04-04T11:05:53.343479Z"
    }
   },
   "source": [
    "import tensorflow as tf\n",
    "from tensorflow.keras.preprocessing.image import ImageDataGenerator\n",
    "from tensorflow.keras.applications import ResNet50, VGG16\n",
    "from tensorflow.keras.models import Model\n",
    "from tensorflow.keras.layers import Dense, GlobalAveragePooling2D\n",
    "from sklearn.model_selection import KFold, train_test_split\n",
    "from sklearn.metrics import accuracy_score, classification_report\n",
    "from sklearn.svm import SVC\n",
    "from sklearn.neighbors import KNeighborsClassifier\n",
    "from sklearn.tree import DecisionTreeClassifier\n",
    "from sklearn.ensemble import RandomForestClassifier\n",
    "import cv2\n",
    "import numpy as np\n",
    "import os\n",
    "import matplotlib.pyplot as plt\n",
    "from tqdm import tqdm"
   ],
   "outputs": [],
   "execution_count": 10
  },
  {
   "cell_type": "code",
   "id": "9c554595a2840fde",
   "metadata": {
    "ExecuteTime": {
     "end_time": "2025-04-04T11:05:56.261246Z",
     "start_time": "2025-04-04T11:05:56.257485Z"
    }
   },
   "source": [
    "# Ensure TensorFlow is using GPU\n",
    "physical_devices = tf.config.experimental.list_physical_devices('GPU')\n",
    "if physical_devices:\n",
    "    tf.config.experimental.set_memory_growth(physical_devices[0], True)\n",
    "    print(\"GPU is available and enabled.\")\n",
    "else:\n",
    "    print(\"No GPU found. Running on CPU.\")"
   ],
   "outputs": [
    {
     "name": "stdout",
     "output_type": "stream",
     "text": [
      "GPU is available and enabled.\n"
     ]
    }
   ],
   "execution_count": 11
  },
  {
   "cell_type": "code",
   "id": "5631181c85e8a685",
   "metadata": {
    "ExecuteTime": {
     "end_time": "2025-04-04T11:05:58.800270Z",
     "start_time": "2025-04-04T11:05:58.797226Z"
    }
   },
   "source": [
    "# Define dataset directory\n",
    "dataset_dir = \"dataset\"\n",
    "img_size = (224, 224)\n",
    "batch_size = 32\n",
    "n_splits = 5\n",
    "random_state = 42"
   ],
   "outputs": [],
   "execution_count": 12
  },
  {
   "cell_type": "code",
   "id": "d7fa849a46d7de7a",
   "metadata": {
    "ExecuteTime": {
     "end_time": "2025-04-04T11:06:02.491768Z",
     "start_time": "2025-04-04T11:06:00.382572Z"
    }
   },
   "source": [
    "# Function to load all images and labels\n",
    "def load_dataset(dataset_path):\n",
    "    images = []\n",
    "    labels = []\n",
    "    classes = os.listdir(dataset_path)\n",
    "\n",
    "    for class_idx, class_name in enumerate(classes):\n",
    "        class_path = os.path.join(dataset_path, class_name)\n",
    "        print(f\"Loading class: {class_name}\")\n",
    "\n",
    "        for img_name in tqdm(os.listdir(class_path)):\n",
    "            img_path = os.path.join(class_path, img_name)\n",
    "            img = cv2.imread(img_path)\n",
    "            if img is not None:\n",
    "                img = cv2.cvtColor(img, cv2.COLOR_BGR2RGB)\n",
    "                img = cv2.resize(img, img_size)\n",
    "                images.append(img)\n",
    "                labels.append(class_idx)\n",
    "\n",
    "    return np.array(images), np.array(labels), classes\n",
    "\n",
    "X, y, class_names = load_dataset(dataset_dir)\n",
    "print(f\"Dataset loaded: {X.shape[0]} images across {len(class_names)} classes\")\n",
    "\n",
    "# Initial train/test split (80% train, 20% test)\n",
    "X_train, X_test, y_train, y_test = train_test_split(\n",
    "    X, y, test_size=0.2, random_state=random_state, stratify=y\n",
    ")\n",
    "\n",
    "# Define data augmentation for training\n",
    "train_datagen = ImageDataGenerator(\n",
    "    rescale=1.0/255,\n",
    "    rotation_range=20,\n",
    "    width_shift_range=0.2,\n",
    "    height_shift_range=0.2,\n",
    "    shear_range=0.2,\n",
    "    zoom_range=0.2,\n",
    "    horizontal_flip=True,\n",
    "    fill_mode='nearest'\n",
    ")\n",
    "\n",
    "# Only rescaling for validation/test data\n",
    "test_datagen = ImageDataGenerator(rescale=1.0/255)\n"
   ],
   "outputs": [
    {
     "name": "stdout",
     "output_type": "stream",
     "text": [
      "Loading class: Arjantin\n"
     ]
    },
    {
     "name": "stderr",
     "output_type": "stream",
     "text": [
      "100%|██████████| 21/21 [00:00<00:00, 248.89it/s]\n"
     ]
    },
    {
     "name": "stdout",
     "output_type": "stream",
     "text": [
      "Loading class: Buchkeygala\n"
     ]
    },
    {
     "name": "stderr",
     "output_type": "stream",
     "text": [
      "100%|██████████| 21/21 [00:00<00:00, 135.48it/s]\n"
     ]
    },
    {
     "name": "stdout",
     "output_type": "stream",
     "text": [
      "Loading class: Galaval\n"
     ]
    },
    {
     "name": "stderr",
     "output_type": "stream",
     "text": [
      "100%|██████████| 20/20 [00:01<00:00, 13.17it/s]\n"
     ]
    },
    {
     "name": "stdout",
     "output_type": "stream",
     "text": [
      "Loading class: Golden\n"
     ]
    },
    {
     "name": "stderr",
     "output_type": "stream",
     "text": [
      "100%|██████████| 21/21 [00:00<00:00, 206.33it/s]\n"
     ]
    },
    {
     "name": "stdout",
     "output_type": "stream",
     "text": [
      "Loading class: Joremin\n"
     ]
    },
    {
     "name": "stderr",
     "output_type": "stream",
     "text": [
      "100%|██████████| 21/21 [00:00<00:00, 202.13it/s]\n"
     ]
    },
    {
     "name": "stdout",
     "output_type": "stream",
     "text": [
      "Loading class: Superchief\n"
     ]
    },
    {
     "name": "stderr",
     "output_type": "stream",
     "text": [
      "100%|██████████| 21/21 [00:00<00:00, 201.93it/s]"
     ]
    },
    {
     "name": "stdout",
     "output_type": "stream",
     "text": [
      "Dataset loaded: 120 images across 6 classes\n"
     ]
    },
    {
     "name": "stderr",
     "output_type": "stream",
     "text": [
      "\n"
     ]
    }
   ],
   "execution_count": 13
  },
  {
   "cell_type": "code",
   "id": "b0f32100b59648ed",
   "metadata": {
    "ExecuteTime": {
     "end_time": "2025-04-04T11:06:07.173576Z",
     "start_time": "2025-04-04T11:06:07.169252Z"
    }
   },
   "source": [
    "def create_model(base_model_name='resnet50'):\n",
    "    if base_model_name.lower() == 'resnet50':\n",
    "        base_model = ResNet50(weights='imagenet', include_top=False, input_shape=(*img_size, 3))\n",
    "    elif base_model_name.lower() == 'vgg16':\n",
    "        base_model = VGG16(weights='imagenet', include_top=False, input_shape=(*img_size, 3))\n",
    "    else:\n",
    "        raise ValueError(\"Supported models: 'resnet50' or 'vgg16'\")\n",
    "\n",
    "    base_model.trainable = False\n",
    "    global_avg_pool = GlobalAveragePooling2D()(base_model.output)\n",
    "    output_layer = Dense(len(class_names), activation='softmax')(global_avg_pool)\n",
    "    model = Model(inputs=base_model.input, outputs=output_layer)\n",
    "    model.compile(\n",
    "        optimizer='adam',\n",
    "        loss='sparse_categorical_crossentropy',\n",
    "        metrics=['accuracy']\n",
    "    )\n",
    "    return model"
   ],
   "outputs": [],
   "execution_count": 15
  },
  {
   "cell_type": "code",
   "id": "748dd849936d4035",
   "metadata": {
    "ExecuteTime": {
     "end_time": "2025-04-04T11:07:15.670503Z",
     "start_time": "2025-04-04T11:07:15.666230Z"
    }
   },
   "source": [
    "def perform_cross_validation(model_name, X_data, y_data, n_splits=5):\n",
    "    kf = KFold(n_splits=n_splits, shuffle=True, random_state=random_state)\n",
    "    fold_accuracies = []\n",
    "\n",
    "    for fold, (train_idx, val_idx) in enumerate(kf.split(X_data)):\n",
    "        print(f\"\\nTraining {model_name} - Fold {fold+1}/{n_splits}\")\n",
    "\n",
    "        # Split data for this fold\n",
    "        X_fold_train, X_fold_val = X_data[train_idx], X_data[val_idx]\n",
    "        y_fold_train, y_fold_val = y_data[train_idx], y_data[val_idx]\n",
    "\n",
    "        # Create and train model\n",
    "        model = create_model(model_name)\n",
    "\n",
    "        # Create data generators for this fold\n",
    "        train_generator = train_datagen.flow(\n",
    "            X_fold_train, y_fold_train, batch_size=batch_size\n",
    "        )\n",
    "\n",
    "        val_generator = test_datagen.flow(\n",
    "            X_fold_val, y_fold_val, batch_size=batch_size\n",
    "        )\n",
    "\n",
    "        # Train model\n",
    "        history = model.fit(\n",
    "            train_generator,\n",
    "            epochs=10,  # Reduced for example\n",
    "            validation_data=val_generator,\n",
    "            verbose=1\n",
    "        )\n",
    "\n",
    "        # Evaluate on validation set\n",
    "        val_loss, val_acc = model.evaluate(\n",
    "            X_fold_val / 255.0, y_fold_val, verbose=0\n",
    "        )\n",
    "\n",
    "        fold_accuracies.append(val_acc)\n",
    "        print(f\"{model_name} - Fold {fold+1} Validation Accuracy: {val_acc:.4f}\")\n",
    "\n",
    "    # Overall performance\n",
    "    mean_acc = np.mean(fold_accuracies)\n",
    "    std_acc = np.std(fold_accuracies)\n",
    "    print(f\"\\n{model_name} - Mean Accuracy: {mean_acc:.4f} (±{std_acc:.4f})\")\n",
    "\n",
    "    return fold_accuracies, mean_acc, std_acc"
   ],
   "outputs": [],
   "execution_count": 16
  },
  {
   "cell_type": "code",
   "id": "1d7c5a6c671f73e7",
   "metadata": {
    "ExecuteTime": {
     "end_time": "2025-04-04T11:12:58.349850Z",
     "start_time": "2025-04-04T11:11:31.568778Z"
    }
   },
   "source": [
    "# Run cross-validation for ResNet50\n",
    "resnet_results = perform_cross_validation('resnet50', X_train, y_train, n_splits=n_splits)"
   ],
   "outputs": [
    {
     "name": "stdout",
     "output_type": "stream",
     "text": [
      "\n",
      "Training resnet50 - Fold 1/5\n",
      "Epoch 1/10\n",
      "\u001B[1m3/3\u001B[0m \u001B[32m━━━━━━━━━━━━━━━━━━━━\u001B[0m\u001B[37m\u001B[0m \u001B[1m10s\u001B[0m 2s/step - accuracy: 0.1443 - loss: 2.0532 - val_accuracy: 0.2000 - val_loss: 1.7887\n",
      "Epoch 2/10\n",
      "\u001B[1m3/3\u001B[0m \u001B[32m━━━━━━━━━━━━━━━━━━━━\u001B[0m\u001B[37m\u001B[0m \u001B[1m1s\u001B[0m 112ms/step - accuracy: 0.1571 - loss: 1.8264 - val_accuracy: 0.1000 - val_loss: 1.8165\n",
      "Epoch 3/10\n",
      "\u001B[1m3/3\u001B[0m \u001B[32m━━━━━━━━━━━━━━━━━━━━\u001B[0m\u001B[37m\u001B[0m \u001B[1m1s\u001B[0m 170ms/step - accuracy: 0.1308 - loss: 1.7942 - val_accuracy: 0.1000 - val_loss: 1.8748\n",
      "Epoch 4/10\n",
      "\u001B[1m3/3\u001B[0m \u001B[32m━━━━━━━━━━━━━━━━━━━━\u001B[0m\u001B[37m\u001B[0m \u001B[1m1s\u001B[0m 163ms/step - accuracy: 0.1665 - loss: 1.8370 - val_accuracy: 0.1000 - val_loss: 1.9124\n",
      "Epoch 5/10\n",
      "\u001B[1m3/3\u001B[0m \u001B[32m━━━━━━━━━━━━━━━━━━━━\u001B[0m\u001B[37m\u001B[0m \u001B[1m1s\u001B[0m 143ms/step - accuracy: 0.2054 - loss: 1.7971 - val_accuracy: 0.1000 - val_loss: 1.9058\n",
      "Epoch 6/10\n",
      "\u001B[1m3/3\u001B[0m \u001B[32m━━━━━━━━━━━━━━━━━━━━\u001B[0m\u001B[37m\u001B[0m \u001B[1m1s\u001B[0m 148ms/step - accuracy: 0.1859 - loss: 1.8302 - val_accuracy: 0.1000 - val_loss: 1.8536\n",
      "Epoch 7/10\n",
      "\u001B[1m3/3\u001B[0m \u001B[32m━━━━━━━━━━━━━━━━━━━━\u001B[0m\u001B[37m\u001B[0m \u001B[1m1s\u001B[0m 176ms/step - accuracy: 0.2057 - loss: 1.7844 - val_accuracy: 0.1500 - val_loss: 1.8125\n",
      "Epoch 8/10\n",
      "\u001B[1m3/3\u001B[0m \u001B[32m━━━━━━━━━━━━━━━━━━━━\u001B[0m\u001B[37m\u001B[0m \u001B[1m1s\u001B[0m 227ms/step - accuracy: 0.1681 - loss: 1.7891 - val_accuracy: 0.1500 - val_loss: 1.8067\n",
      "Epoch 9/10\n",
      "\u001B[1m3/3\u001B[0m \u001B[32m━━━━━━━━━━━━━━━━━━━━\u001B[0m\u001B[37m\u001B[0m \u001B[1m1s\u001B[0m 165ms/step - accuracy: 0.1578 - loss: 1.7956 - val_accuracy: 0.1500 - val_loss: 1.8072\n",
      "Epoch 10/10\n",
      "\u001B[1m3/3\u001B[0m \u001B[32m━━━━━━━━━━━━━━━━━━━━\u001B[0m\u001B[37m\u001B[0m \u001B[1m1s\u001B[0m 163ms/step - accuracy: 0.1377 - loss: 1.8075 - val_accuracy: 0.1000 - val_loss: 1.8148\n",
      "resnet50 - Fold 1 Validation Accuracy: 0.1000\n",
      "\n",
      "Training resnet50 - Fold 2/5\n",
      "Epoch 1/10\n",
      "\u001B[1m3/3\u001B[0m \u001B[32m━━━━━━━━━━━━━━━━━━━━\u001B[0m\u001B[37m\u001B[0m \u001B[1m11s\u001B[0m 2s/step - accuracy: 0.1675 - loss: 2.0735 - val_accuracy: 0.0526 - val_loss: 1.8369\n",
      "Epoch 2/10\n",
      "\u001B[1m3/3\u001B[0m \u001B[32m━━━━━━━━━━━━━━━━━━━━\u001B[0m\u001B[37m\u001B[0m \u001B[1m1s\u001B[0m 139ms/step - accuracy: 0.2172 - loss: 1.8066 - val_accuracy: 0.1579 - val_loss: 1.8601\n",
      "Epoch 3/10\n",
      "\u001B[1m3/3\u001B[0m \u001B[32m━━━━━━━━━━━━━━━━━━━━\u001B[0m\u001B[37m\u001B[0m \u001B[1m1s\u001B[0m 145ms/step - accuracy: 0.1417 - loss: 1.8177 - val_accuracy: 0.0526 - val_loss: 1.9425\n",
      "Epoch 4/10\n",
      "\u001B[1m3/3\u001B[0m \u001B[32m━━━━━━━━━━━━━━━━━━━━\u001B[0m\u001B[37m\u001B[0m \u001B[1m1s\u001B[0m 222ms/step - accuracy: 0.1810 - loss: 1.8620 - val_accuracy: 0.1053 - val_loss: 1.9257\n",
      "Epoch 5/10\n",
      "\u001B[1m3/3\u001B[0m \u001B[32m━━━━━━━━━━━━━━━━━━━━\u001B[0m\u001B[37m\u001B[0m \u001B[1m1s\u001B[0m 164ms/step - accuracy: 0.1744 - loss: 1.8344 - val_accuracy: 0.1053 - val_loss: 1.8692\n",
      "Epoch 6/10\n",
      "\u001B[1m3/3\u001B[0m \u001B[32m━━━━━━━━━━━━━━━━━━━━\u001B[0m\u001B[37m\u001B[0m \u001B[1m1s\u001B[0m 224ms/step - accuracy: 0.2042 - loss: 1.7904 - val_accuracy: 0.1053 - val_loss: 1.8348\n",
      "Epoch 7/10\n",
      "\u001B[1m3/3\u001B[0m \u001B[32m━━━━━━━━━━━━━━━━━━━━\u001B[0m\u001B[37m\u001B[0m \u001B[1m1s\u001B[0m 140ms/step - accuracy: 0.2003 - loss: 1.7973 - val_accuracy: 0.0526 - val_loss: 1.8306\n",
      "Epoch 8/10\n",
      "\u001B[1m3/3\u001B[0m \u001B[32m━━━━━━━━━━━━━━━━━━━━\u001B[0m\u001B[37m\u001B[0m \u001B[1m1s\u001B[0m 144ms/step - accuracy: 0.1912 - loss: 1.7939 - val_accuracy: 0.0526 - val_loss: 1.8555\n",
      "Epoch 9/10\n",
      "\u001B[1m3/3\u001B[0m \u001B[32m━━━━━━━━━━━━━━━━━━━━\u001B[0m\u001B[37m\u001B[0m \u001B[1m1s\u001B[0m 163ms/step - accuracy: 0.1776 - loss: 1.7986 - val_accuracy: 0.0526 - val_loss: 1.8729\n",
      "Epoch 10/10\n",
      "\u001B[1m3/3\u001B[0m \u001B[32m━━━━━━━━━━━━━━━━━━━━\u001B[0m\u001B[37m\u001B[0m \u001B[1m1s\u001B[0m 166ms/step - accuracy: 0.2155 - loss: 1.7959 - val_accuracy: 0.0526 - val_loss: 1.8853\n",
      "resnet50 - Fold 2 Validation Accuracy: 0.0526\n",
      "\n",
      "Training resnet50 - Fold 3/5\n",
      "Epoch 1/10\n",
      "\u001B[1m3/3\u001B[0m \u001B[32m━━━━━━━━━━━━━━━━━━━━\u001B[0m\u001B[37m\u001B[0m \u001B[1m10s\u001B[0m 2s/step - accuracy: 0.1494 - loss: 2.3114 - val_accuracy: 0.2632 - val_loss: 1.7301\n",
      "Epoch 2/10\n",
      "\u001B[1m3/3\u001B[0m \u001B[32m━━━━━━━━━━━━━━━━━━━━\u001B[0m\u001B[37m\u001B[0m \u001B[1m1s\u001B[0m 233ms/step - accuracy: 0.1103 - loss: 1.9688 - val_accuracy: 0.2632 - val_loss: 1.7604\n",
      "Epoch 3/10\n",
      "\u001B[1m3/3\u001B[0m \u001B[32m━━━━━━━━━━━━━━━━━━━━\u001B[0m\u001B[37m\u001B[0m \u001B[1m1s\u001B[0m 167ms/step - accuracy: 0.1601 - loss: 1.7985 - val_accuracy: 0.0526 - val_loss: 1.9551\n",
      "Epoch 4/10\n",
      "\u001B[1m3/3\u001B[0m \u001B[32m━━━━━━━━━━━━━━━━━━━━\u001B[0m\u001B[37m\u001B[0m \u001B[1m1s\u001B[0m 148ms/step - accuracy: 0.1872 - loss: 1.8065 - val_accuracy: 0.0526 - val_loss: 2.1227\n",
      "Epoch 5/10\n",
      "\u001B[1m3/3\u001B[0m \u001B[32m━━━━━━━━━━━━━━━━━━━━\u001B[0m\u001B[37m\u001B[0m \u001B[1m1s\u001B[0m 154ms/step - accuracy: 0.2484 - loss: 1.8391 - val_accuracy: 0.0000e+00 - val_loss: 2.1976\n",
      "Epoch 6/10\n",
      "\u001B[1m3/3\u001B[0m \u001B[32m━━━━━━━━━━━━━━━━━━━━\u001B[0m\u001B[37m\u001B[0m \u001B[1m1s\u001B[0m 236ms/step - accuracy: 0.1868 - loss: 1.8418 - val_accuracy: 0.0000e+00 - val_loss: 2.1446\n",
      "Epoch 7/10\n",
      "\u001B[1m3/3\u001B[0m \u001B[32m━━━━━━━━━━━━━━━━━━━━\u001B[0m\u001B[37m\u001B[0m \u001B[1m1s\u001B[0m 156ms/step - accuracy: 0.2250 - loss: 1.8187 - val_accuracy: 0.0000e+00 - val_loss: 2.0637\n",
      "Epoch 8/10\n",
      "\u001B[1m3/3\u001B[0m \u001B[32m━━━━━━━━━━━━━━━━━━━━\u001B[0m\u001B[37m\u001B[0m \u001B[1m1s\u001B[0m 155ms/step - accuracy: 0.2016 - loss: 1.7865 - val_accuracy: 0.1053 - val_loss: 1.9602\n",
      "Epoch 9/10\n",
      "\u001B[1m3/3\u001B[0m \u001B[32m━━━━━━━━━━━━━━━━━━━━\u001B[0m\u001B[37m\u001B[0m \u001B[1m1s\u001B[0m 238ms/step - accuracy: 0.2058 - loss: 1.7832 - val_accuracy: 0.1579 - val_loss: 1.9046\n",
      "Epoch 10/10\n",
      "\u001B[1m3/3\u001B[0m \u001B[32m━━━━━━━━━━━━━━━━━━━━\u001B[0m\u001B[37m\u001B[0m \u001B[1m1s\u001B[0m 152ms/step - accuracy: 0.1768 - loss: 1.7905 - val_accuracy: 0.0526 - val_loss: 1.8808\n",
      "resnet50 - Fold 3 Validation Accuracy: 0.0526\n",
      "\n",
      "Training resnet50 - Fold 4/5\n",
      "Epoch 1/10\n",
      "\u001B[1m3/3\u001B[0m \u001B[32m━━━━━━━━━━━━━━━━━━━━\u001B[0m\u001B[37m\u001B[0m \u001B[1m13s\u001B[0m 3s/step - accuracy: 0.1223 - loss: 2.0515 - val_accuracy: 0.1579 - val_loss: 1.9667\n",
      "Epoch 2/10\n",
      "\u001B[1m3/3\u001B[0m \u001B[32m━━━━━━━━━━━━━━━━━━━━\u001B[0m\u001B[37m\u001B[0m \u001B[1m1s\u001B[0m 228ms/step - accuracy: 0.1553 - loss: 1.8149 - val_accuracy: 0.1053 - val_loss: 1.8852\n",
      "Epoch 3/10\n",
      "\u001B[1m3/3\u001B[0m \u001B[32m━━━━━━━━━━━━━━━━━━━━\u001B[0m\u001B[37m\u001B[0m \u001B[1m1s\u001B[0m 162ms/step - accuracy: 0.1965 - loss: 1.7981 - val_accuracy: 0.2105 - val_loss: 1.8367\n",
      "Epoch 4/10\n",
      "\u001B[1m3/3\u001B[0m \u001B[32m━━━━━━━━━━━━━━━━━━━━\u001B[0m\u001B[37m\u001B[0m \u001B[1m1s\u001B[0m 223ms/step - accuracy: 0.1129 - loss: 1.8319 - val_accuracy: 0.2632 - val_loss: 1.8079\n",
      "Epoch 5/10\n",
      "\u001B[1m3/3\u001B[0m \u001B[32m━━━━━━━━━━━━━━━━━━━━\u001B[0m\u001B[37m\u001B[0m \u001B[1m1s\u001B[0m 170ms/step - accuracy: 0.1624 - loss: 1.8567 - val_accuracy: 0.0526 - val_loss: 1.7885\n",
      "Epoch 6/10\n",
      "\u001B[1m3/3\u001B[0m \u001B[32m━━━━━━━━━━━━━━━━━━━━\u001B[0m\u001B[37m\u001B[0m \u001B[1m1s\u001B[0m 160ms/step - accuracy: 0.1845 - loss: 1.7993 - val_accuracy: 0.1579 - val_loss: 1.7908\n",
      "Epoch 7/10\n",
      "\u001B[1m3/3\u001B[0m \u001B[32m━━━━━━━━━━━━━━━━━━━━\u001B[0m\u001B[37m\u001B[0m \u001B[1m1s\u001B[0m 167ms/step - accuracy: 0.1223 - loss: 1.8149 - val_accuracy: 0.1053 - val_loss: 1.8034\n",
      "Epoch 8/10\n",
      "\u001B[1m3/3\u001B[0m \u001B[32m━━━━━━━━━━━━━━━━━━━━\u001B[0m\u001B[37m\u001B[0m \u001B[1m1s\u001B[0m 147ms/step - accuracy: 0.1872 - loss: 1.7902 - val_accuracy: 0.2105 - val_loss: 1.8262\n",
      "Epoch 9/10\n",
      "\u001B[1m3/3\u001B[0m \u001B[32m━━━━━━━━━━━━━━━━━━━━\u001B[0m\u001B[37m\u001B[0m \u001B[1m1s\u001B[0m 170ms/step - accuracy: 0.1664 - loss: 1.7889 - val_accuracy: 0.1053 - val_loss: 1.8558\n",
      "Epoch 10/10\n",
      "\u001B[1m3/3\u001B[0m \u001B[32m━━━━━━━━━━━━━━━━━━━━\u001B[0m\u001B[37m\u001B[0m \u001B[1m1s\u001B[0m 182ms/step - accuracy: 0.1230 - loss: 1.7903 - val_accuracy: 0.1053 - val_loss: 1.8733\n",
      "resnet50 - Fold 4 Validation Accuracy: 0.1053\n",
      "\n",
      "Training resnet50 - Fold 5/5\n",
      "Epoch 1/10\n",
      "\u001B[1m3/3\u001B[0m \u001B[32m━━━━━━━━━━━━━━━━━━━━\u001B[0m\u001B[37m\u001B[0m \u001B[1m11s\u001B[0m 3s/step - accuracy: 0.1680 - loss: 2.2691 - val_accuracy: 0.2632 - val_loss: 1.8737\n",
      "Epoch 2/10\n",
      "\u001B[1m3/3\u001B[0m \u001B[32m━━━━━━━━━━━━━━━━━━━━\u001B[0m\u001B[37m\u001B[0m \u001B[1m1s\u001B[0m 238ms/step - accuracy: 0.1488 - loss: 1.9349 - val_accuracy: 0.1579 - val_loss: 1.7848\n",
      "Epoch 3/10\n",
      "\u001B[1m3/3\u001B[0m \u001B[32m━━━━━━━━━━━━━━━━━━━━\u001B[0m\u001B[37m\u001B[0m \u001B[1m1s\u001B[0m 220ms/step - accuracy: 0.1618 - loss: 1.8315 - val_accuracy: 0.1053 - val_loss: 1.8311\n",
      "Epoch 4/10\n",
      "\u001B[1m3/3\u001B[0m \u001B[32m━━━━━━━━━━━━━━━━━━━━\u001B[0m\u001B[37m\u001B[0m \u001B[1m1s\u001B[0m 155ms/step - accuracy: 0.1690 - loss: 1.8213 - val_accuracy: 0.1053 - val_loss: 1.9224\n",
      "Epoch 5/10\n",
      "\u001B[1m3/3\u001B[0m \u001B[32m━━━━━━━━━━━━━━━━━━━━\u001B[0m\u001B[37m\u001B[0m \u001B[1m1s\u001B[0m 147ms/step - accuracy: 0.1768 - loss: 1.8283 - val_accuracy: 0.1579 - val_loss: 1.9675\n",
      "Epoch 6/10\n",
      "\u001B[1m3/3\u001B[0m \u001B[32m━━━━━━━━━━━━━━━━━━━━\u001B[0m\u001B[37m\u001B[0m \u001B[1m1s\u001B[0m 175ms/step - accuracy: 0.1832 - loss: 1.8377 - val_accuracy: 0.1579 - val_loss: 1.9609\n",
      "Epoch 7/10\n",
      "\u001B[1m3/3\u001B[0m \u001B[32m━━━━━━━━━━━━━━━━━━━━\u001B[0m\u001B[37m\u001B[0m \u001B[1m1s\u001B[0m 145ms/step - accuracy: 0.1847 - loss: 1.8550 - val_accuracy: 0.2632 - val_loss: 1.9259\n",
      "Epoch 8/10\n",
      "\u001B[1m3/3\u001B[0m \u001B[32m━━━━━━━━━━━━━━━━━━━━\u001B[0m\u001B[37m\u001B[0m \u001B[1m1s\u001B[0m 162ms/step - accuracy: 0.1698 - loss: 1.8084 - val_accuracy: 0.1579 - val_loss: 1.8948\n",
      "Epoch 9/10\n",
      "\u001B[1m3/3\u001B[0m \u001B[32m━━━━━━━━━━━━━━━━━━━━\u001B[0m\u001B[37m\u001B[0m \u001B[1m1s\u001B[0m 144ms/step - accuracy: 0.2367 - loss: 1.7974 - val_accuracy: 0.1579 - val_loss: 1.8684\n",
      "Epoch 10/10\n",
      "\u001B[1m3/3\u001B[0m \u001B[32m━━━━━━━━━━━━━━━━━━━━\u001B[0m\u001B[37m\u001B[0m \u001B[1m1s\u001B[0m 230ms/step - accuracy: 0.1729 - loss: 1.8097 - val_accuracy: 0.1579 - val_loss: 1.8399\n",
      "resnet50 - Fold 5 Validation Accuracy: 0.1579\n",
      "\n",
      "resnet50 - Mean Accuracy: 0.0937 (±0.0392)\n"
     ]
    }
   ],
   "execution_count": 19
  },
  {
   "metadata": {
    "ExecuteTime": {
     "end_time": "2025-04-04T11:10:44.206768Z",
     "start_time": "2025-04-04T11:09:21.069029Z"
    }
   },
   "cell_type": "code",
   "source": [
    "# Run cross-validation for VGG16\n",
    "vgg_results = perform_cross_validation('vgg16', X_train, y_train, n_splits=n_splits)"
   ],
   "id": "16f0b00a447824b8",
   "outputs": [
    {
     "name": "stdout",
     "output_type": "stream",
     "text": [
      "\n",
      "Training vgg16 - Fold 1/5\n",
      "Epoch 1/10\n"
     ]
    },
    {
     "name": "stderr",
     "output_type": "stream",
     "text": [
      "2025-04-04 14:09:23.183754: I external/local_xla/xla/stream_executor/cuda/subprocess_compilation.cc:346] ptxas warning : Registers are spilled to local memory in function 'gemm_fusion_dot_573', 84 bytes spill stores, 84 bytes spill loads\n",
      "\n",
      "2025-04-04 14:09:25.024482: W external/local_xla/xla/tsl/framework/bfc_allocator.cc:310] Allocator (GPU_0_bfc) ran out of memory trying to allocate 1.74GiB with freed_by_count=0. The caller indicates that this is not a failure, but this may mean that there could be performance gains if more memory were available.\n"
     ]
    },
    {
     "name": "stdout",
     "output_type": "stream",
     "text": [
      "\u001B[1m3/3\u001B[0m \u001B[32m━━━━━━━━━━━━━━━━━━━━\u001B[0m\u001B[37m\u001B[0m \u001B[1m0s\u001B[0m 3s/step - accuracy: 0.1485 - loss: 2.1537"
     ]
    },
    {
     "name": "stderr",
     "output_type": "stream",
     "text": [
      "2025-04-04 14:09:39.753276: I external/local_xla/xla/stream_executor/cuda/subprocess_compilation.cc:346] ptxas warning : Registers are spilled to local memory in function 'gemm_fusion_dot_199', 84 bytes spill stores, 84 bytes spill loads\n",
      "\n",
      "2025-04-04 14:09:39.799048: I external/local_xla/xla/stream_executor/cuda/subprocess_compilation.cc:346] ptxas warning : Registers are spilled to local memory in function 'gemm_fusion_dot_199', 12 bytes spill stores, 12 bytes spill loads\n",
      "\n",
      "2025-04-04 14:09:40.822442: W external/local_xla/xla/tsl/framework/bfc_allocator.cc:310] Allocator (GPU_0_bfc) ran out of memory trying to allocate 1.74GiB with freed_by_count=0. The caller indicates that this is not a failure, but this may mean that there could be performance gains if more memory were available.\n"
     ]
    },
    {
     "name": "stdout",
     "output_type": "stream",
     "text": [
      "\u001B[1m3/3\u001B[0m \u001B[32m━━━━━━━━━━━━━━━━━━━━\u001B[0m\u001B[37m\u001B[0m \u001B[1m25s\u001B[0m 7s/step - accuracy: 0.1574 - loss: 2.1401 - val_accuracy: 0.1000 - val_loss: 2.1419\n",
      "Epoch 2/10\n",
      "\u001B[1m3/3\u001B[0m \u001B[32m━━━━━━━━━━━━━━━━━━━━\u001B[0m\u001B[37m\u001B[0m \u001B[1m1s\u001B[0m 211ms/step - accuracy: 0.1979 - loss: 1.9764 - val_accuracy: 0.1000 - val_loss: 2.0186\n",
      "Epoch 3/10\n",
      "\u001B[1m3/3\u001B[0m \u001B[32m━━━━━━━━━━━━━━━━━━━━\u001B[0m\u001B[37m\u001B[0m \u001B[1m1s\u001B[0m 210ms/step - accuracy: 0.1631 - loss: 1.9667 - val_accuracy: 0.1000 - val_loss: 1.9309\n",
      "Epoch 4/10\n",
      "\u001B[1m3/3\u001B[0m \u001B[32m━━━━━━━━━━━━━━━━━━━━\u001B[0m\u001B[37m\u001B[0m \u001B[1m1s\u001B[0m 207ms/step - accuracy: 0.1574 - loss: 1.8830 - val_accuracy: 0.1000 - val_loss: 1.8738\n",
      "Epoch 5/10\n",
      "\u001B[1m3/3\u001B[0m \u001B[32m━━━━━━━━━━━━━━━━━━━━\u001B[0m\u001B[37m\u001B[0m \u001B[1m1s\u001B[0m 205ms/step - accuracy: 0.2159 - loss: 1.8241 - val_accuracy: 0.1000 - val_loss: 1.8380\n",
      "Epoch 6/10\n",
      "\u001B[1m3/3\u001B[0m \u001B[32m━━━━━━━━━━━━━━━━━━━━\u001B[0m\u001B[37m\u001B[0m \u001B[1m1s\u001B[0m 261ms/step - accuracy: 0.2445 - loss: 1.7630 - val_accuracy: 0.1500 - val_loss: 1.8160\n",
      "Epoch 7/10\n",
      "\u001B[1m3/3\u001B[0m \u001B[32m━━━━━━━━━━━━━━━━━━━━\u001B[0m\u001B[37m\u001B[0m \u001B[1m1s\u001B[0m 248ms/step - accuracy: 0.2368 - loss: 1.7860 - val_accuracy: 0.1000 - val_loss: 1.8047\n",
      "Epoch 8/10\n",
      "\u001B[1m3/3\u001B[0m \u001B[32m━━━━━━━━━━━━━━━━━━━━\u001B[0m\u001B[37m\u001B[0m \u001B[1m1s\u001B[0m 204ms/step - accuracy: 0.1640 - loss: 1.7686 - val_accuracy: 0.1000 - val_loss: 1.7913\n",
      "Epoch 9/10\n",
      "\u001B[1m3/3\u001B[0m \u001B[32m━━━━━━━━━━━━━━━━━━━━\u001B[0m\u001B[37m\u001B[0m \u001B[1m1s\u001B[0m 195ms/step - accuracy: 0.2093 - loss: 1.7376 - val_accuracy: 0.1000 - val_loss: 1.7812\n",
      "Epoch 10/10\n",
      "\u001B[1m3/3\u001B[0m \u001B[32m━━━━━━━━━━━━━━━━━━━━\u001B[0m\u001B[37m\u001B[0m \u001B[1m1s\u001B[0m 260ms/step - accuracy: 0.2121 - loss: 1.7565 - val_accuracy: 0.1000 - val_loss: 1.7637\n",
      "vgg16 - Fold 1 Validation Accuracy: 0.1000\n",
      "\n",
      "Training vgg16 - Fold 2/5\n",
      "Epoch 1/10\n",
      "\u001B[1m3/3\u001B[0m \u001B[32m━━━━━━━━━━━━━━━━━━━━\u001B[0m\u001B[37m\u001B[0m \u001B[1m0s\u001B[0m 493ms/step - accuracy: 0.2150 - loss: 1.9651"
     ]
    },
    {
     "name": "stderr",
     "output_type": "stream",
     "text": [
      "2025-04-04 14:10:01.605870: I external/local_xla/xla/stream_executor/cuda/subprocess_compilation.cc:346] ptxas warning : Registers are spilled to local memory in function 'gemm_fusion_dot_199', 84 bytes spill stores, 84 bytes spill loads\n",
      "\n",
      "2025-04-04 14:10:01.674678: I external/local_xla/xla/stream_executor/cuda/subprocess_compilation.cc:346] ptxas warning : Registers are spilled to local memory in function 'gemm_fusion_dot_199', 12 bytes spill stores, 12 bytes spill loads\n",
      "\n",
      "2025-04-04 14:10:02.492874: W external/local_xla/xla/tsl/framework/bfc_allocator.cc:310] Allocator (GPU_0_bfc) ran out of memory trying to allocate 1.74GiB with freed_by_count=0. The caller indicates that this is not a failure, but this may mean that there could be performance gains if more memory were available.\n"
     ]
    },
    {
     "name": "stdout",
     "output_type": "stream",
     "text": [
      "\u001B[1m3/3\u001B[0m \u001B[32m━━━━━━━━━━━━━━━━━━━━\u001B[0m\u001B[37m\u001B[0m \u001B[1m13s\u001B[0m 4s/step - accuracy: 0.2067 - loss: 1.9863 - val_accuracy: 0.1053 - val_loss: 2.1594\n",
      "Epoch 2/10\n",
      "\u001B[1m3/3\u001B[0m \u001B[32m━━━━━━━━━━━━━━━━━━━━\u001B[0m\u001B[37m\u001B[0m \u001B[1m1s\u001B[0m 292ms/step - accuracy: 0.1490 - loss: 2.0043 - val_accuracy: 0.1053 - val_loss: 2.0486\n",
      "Epoch 3/10\n",
      "\u001B[1m3/3\u001B[0m \u001B[32m━━━━━━━━━━━━━━━━━━━━\u001B[0m\u001B[37m\u001B[0m \u001B[1m1s\u001B[0m 258ms/step - accuracy: 0.1683 - loss: 1.9264 - val_accuracy: 0.1053 - val_loss: 1.9508\n",
      "Epoch 4/10\n",
      "\u001B[1m3/3\u001B[0m \u001B[32m━━━━━━━━━━━━━━━━━━━━\u001B[0m\u001B[37m\u001B[0m \u001B[1m1s\u001B[0m 174ms/step - accuracy: 0.1912 - loss: 1.8695 - val_accuracy: 0.1053 - val_loss: 1.8853\n",
      "Epoch 5/10\n",
      "\u001B[1m3/3\u001B[0m \u001B[32m━━━━━━━━━━━━━━━━━━━━\u001B[0m\u001B[37m\u001B[0m \u001B[1m1s\u001B[0m 211ms/step - accuracy: 0.2233 - loss: 1.7743 - val_accuracy: 0.0526 - val_loss: 1.8432\n",
      "Epoch 6/10\n",
      "\u001B[1m3/3\u001B[0m \u001B[32m━━━━━━━━━━━━━━━━━━━━\u001B[0m\u001B[37m\u001B[0m \u001B[1m1s\u001B[0m 209ms/step - accuracy: 0.2672 - loss: 1.7488 - val_accuracy: 0.1579 - val_loss: 1.8264\n",
      "Epoch 7/10\n",
      "\u001B[1m3/3\u001B[0m \u001B[32m━━━━━━━━━━━━━━━━━━━━\u001B[0m\u001B[37m\u001B[0m \u001B[1m1s\u001B[0m 208ms/step - accuracy: 0.2304 - loss: 1.7666 - val_accuracy: 0.2105 - val_loss: 1.8233\n",
      "Epoch 8/10\n",
      "\u001B[1m3/3\u001B[0m \u001B[32m━━━━━━━━━━━━━━━━━━━━\u001B[0m\u001B[37m\u001B[0m \u001B[1m1s\u001B[0m 214ms/step - accuracy: 0.1662 - loss: 1.7697 - val_accuracy: 0.1053 - val_loss: 1.8237\n",
      "Epoch 9/10\n",
      "\u001B[1m3/3\u001B[0m \u001B[32m━━━━━━━━━━━━━━━━━━━━\u001B[0m\u001B[37m\u001B[0m \u001B[1m1s\u001B[0m 208ms/step - accuracy: 0.2147 - loss: 1.7742 - val_accuracy: 0.2105 - val_loss: 1.8246\n",
      "Epoch 10/10\n",
      "\u001B[1m3/3\u001B[0m \u001B[32m━━━━━━━━━━━━━━━━━━━━\u001B[0m\u001B[37m\u001B[0m \u001B[1m1s\u001B[0m 256ms/step - accuracy: 0.3112 - loss: 1.7477 - val_accuracy: 0.2105 - val_loss: 1.8287\n",
      "vgg16 - Fold 2 Validation Accuracy: 0.2105\n",
      "\n",
      "Training vgg16 - Fold 3/5\n",
      "Epoch 1/10\n",
      "\u001B[1m3/3\u001B[0m \u001B[32m━━━━━━━━━━━━━━━━━━━━\u001B[0m\u001B[37m\u001B[0m \u001B[1m3s\u001B[0m 831ms/step - accuracy: 0.1755 - loss: 2.1604 - val_accuracy: 0.0526 - val_loss: 1.9245\n",
      "Epoch 2/10\n",
      "\u001B[1m3/3\u001B[0m \u001B[32m━━━━━━━━━━━━━━━━━━━━\u001B[0m\u001B[37m\u001B[0m \u001B[1m1s\u001B[0m 256ms/step - accuracy: 0.2107 - loss: 1.9570 - val_accuracy: 0.0526 - val_loss: 1.8501\n",
      "Epoch 3/10\n",
      "\u001B[1m3/3\u001B[0m \u001B[32m━━━━━━━━━━━━━━━━━━━━\u001B[0m\u001B[37m\u001B[0m \u001B[1m1s\u001B[0m 172ms/step - accuracy: 0.2146 - loss: 1.9087 - val_accuracy: 0.0526 - val_loss: 1.8046\n",
      "Epoch 4/10\n",
      "\u001B[1m3/3\u001B[0m \u001B[32m━━━━━━━━━━━━━━━━━━━━\u001B[0m\u001B[37m\u001B[0m \u001B[1m1s\u001B[0m 258ms/step - accuracy: 0.2005 - loss: 1.8232 - val_accuracy: 0.0526 - val_loss: 1.7857\n",
      "Epoch 5/10\n",
      "\u001B[1m3/3\u001B[0m \u001B[32m━━━━━━━━━━━━━━━━━━━━\u001B[0m\u001B[37m\u001B[0m \u001B[1m1s\u001B[0m 210ms/step - accuracy: 0.2013 - loss: 1.8267 - val_accuracy: 0.2105 - val_loss: 1.7834\n",
      "Epoch 6/10\n",
      "\u001B[1m3/3\u001B[0m \u001B[32m━━━━━━━━━━━━━━━━━━━━\u001B[0m\u001B[37m\u001B[0m \u001B[1m1s\u001B[0m 213ms/step - accuracy: 0.2073 - loss: 1.8003 - val_accuracy: 0.2105 - val_loss: 1.8003\n",
      "Epoch 7/10\n",
      "\u001B[1m3/3\u001B[0m \u001B[32m━━━━━━━━━━━━━━━━━━━━\u001B[0m\u001B[37m\u001B[0m \u001B[1m1s\u001B[0m 209ms/step - accuracy: 0.1722 - loss: 1.7855 - val_accuracy: 0.1579 - val_loss: 1.8213\n",
      "Epoch 8/10\n",
      "\u001B[1m3/3\u001B[0m \u001B[32m━━━━━━━━━━━━━━━━━━━━\u001B[0m\u001B[37m\u001B[0m \u001B[1m1s\u001B[0m 258ms/step - accuracy: 0.2053 - loss: 1.7616 - val_accuracy: 0.2105 - val_loss: 1.8473\n",
      "Epoch 9/10\n",
      "\u001B[1m3/3\u001B[0m \u001B[32m━━━━━━━━━━━━━━━━━━━━\u001B[0m\u001B[37m\u001B[0m \u001B[1m1s\u001B[0m 216ms/step - accuracy: 0.2909 - loss: 1.7503 - val_accuracy: 0.1053 - val_loss: 1.8724\n",
      "Epoch 10/10\n",
      "\u001B[1m3/3\u001B[0m \u001B[32m━━━━━━━━━━━━━━━━━━━━\u001B[0m\u001B[37m\u001B[0m \u001B[1m1s\u001B[0m 213ms/step - accuracy: 0.2271 - loss: 1.7586 - val_accuracy: 0.0000e+00 - val_loss: 1.8972\n",
      "vgg16 - Fold 3 Validation Accuracy: 0.0000\n",
      "\n",
      "Training vgg16 - Fold 4/5\n",
      "Epoch 1/10\n",
      "\u001B[1m3/3\u001B[0m \u001B[32m━━━━━━━━━━━━━━━━━━━━\u001B[0m\u001B[37m\u001B[0m \u001B[1m3s\u001B[0m 903ms/step - accuracy: 0.1435 - loss: 2.2796 - val_accuracy: 0.1053 - val_loss: 2.2955\n",
      "Epoch 2/10\n",
      "\u001B[1m3/3\u001B[0m \u001B[32m━━━━━━━━━━━━━━━━━━━━\u001B[0m\u001B[37m\u001B[0m \u001B[1m1s\u001B[0m 210ms/step - accuracy: 0.1555 - loss: 2.0378 - val_accuracy: 0.1053 - val_loss: 2.1277\n",
      "Epoch 3/10\n",
      "\u001B[1m3/3\u001B[0m \u001B[32m━━━━━━━━━━━━━━━━━━━━\u001B[0m\u001B[37m\u001B[0m \u001B[1m1s\u001B[0m 172ms/step - accuracy: 0.1847 - loss: 1.9744 - val_accuracy: 0.1053 - val_loss: 1.9998\n",
      "Epoch 4/10\n",
      "\u001B[1m3/3\u001B[0m \u001B[32m━━━━━━━━━━━━━━━━━━━━\u001B[0m\u001B[37m\u001B[0m \u001B[1m1s\u001B[0m 213ms/step - accuracy: 0.1399 - loss: 1.9610 - val_accuracy: 0.1053 - val_loss: 1.9144\n",
      "Epoch 5/10\n",
      "\u001B[1m3/3\u001B[0m \u001B[32m━━━━━━━━━━━━━━━━━━━━\u001B[0m\u001B[37m\u001B[0m \u001B[1m1s\u001B[0m 207ms/step - accuracy: 0.1555 - loss: 1.8521 - val_accuracy: 0.1053 - val_loss: 1.8617\n",
      "Epoch 6/10\n",
      "\u001B[1m3/3\u001B[0m \u001B[32m━━━━━━━━━━━━━━━━━━━━\u001B[0m\u001B[37m\u001B[0m \u001B[1m1s\u001B[0m 254ms/step - accuracy: 0.1930 - loss: 1.7858 - val_accuracy: 0.1053 - val_loss: 1.8258\n",
      "Epoch 7/10\n",
      "\u001B[1m3/3\u001B[0m \u001B[32m━━━━━━━━━━━━━━━━━━━━\u001B[0m\u001B[37m\u001B[0m \u001B[1m1s\u001B[0m 253ms/step - accuracy: 0.1924 - loss: 1.7675 - val_accuracy: 0.1053 - val_loss: 1.8060\n",
      "Epoch 8/10\n",
      "\u001B[1m3/3\u001B[0m \u001B[32m━━━━━━━━━━━━━━━━━━━━\u001B[0m\u001B[37m\u001B[0m \u001B[1m1s\u001B[0m 177ms/step - accuracy: 0.2808 - loss: 1.7465 - val_accuracy: 0.1579 - val_loss: 1.7951\n",
      "Epoch 9/10\n",
      "\u001B[1m3/3\u001B[0m \u001B[32m━━━━━━━━━━━━━━━━━━━━\u001B[0m\u001B[37m\u001B[0m \u001B[1m1s\u001B[0m 266ms/step - accuracy: 0.1986 - loss: 1.7468 - val_accuracy: 0.2105 - val_loss: 1.7931\n",
      "Epoch 10/10\n",
      "\u001B[1m3/3\u001B[0m \u001B[32m━━━━━━━━━━━━━━━━━━━━\u001B[0m\u001B[37m\u001B[0m \u001B[1m1s\u001B[0m 259ms/step - accuracy: 0.2366 - loss: 1.7319 - val_accuracy: 0.3158 - val_loss: 1.7833\n",
      "vgg16 - Fold 4 Validation Accuracy: 0.3158\n",
      "\n",
      "Training vgg16 - Fold 5/5\n",
      "Epoch 1/10\n",
      "\u001B[1m3/3\u001B[0m \u001B[32m━━━━━━━━━━━━━━━━━━━━\u001B[0m\u001B[37m\u001B[0m \u001B[1m3s\u001B[0m 846ms/step - accuracy: 0.1601 - loss: 1.9795 - val_accuracy: 0.1579 - val_loss: 1.9628\n",
      "Epoch 2/10\n",
      "\u001B[1m3/3\u001B[0m \u001B[32m━━━━━━━━━━━━━━━━━━━━\u001B[0m\u001B[37m\u001B[0m \u001B[1m1s\u001B[0m 259ms/step - accuracy: 0.1729 - loss: 1.9559 - val_accuracy: 0.1579 - val_loss: 1.8977\n",
      "Epoch 3/10\n",
      "\u001B[1m3/3\u001B[0m \u001B[32m━━━━━━━━━━━━━━━━━━━━\u001B[0m\u001B[37m\u001B[0m \u001B[1m1s\u001B[0m 215ms/step - accuracy: 0.1702 - loss: 1.8164 - val_accuracy: 0.2105 - val_loss: 1.8652\n",
      "Epoch 4/10\n",
      "\u001B[1m3/3\u001B[0m \u001B[32m━━━━━━━━━━━━━━━━━━━━\u001B[0m\u001B[37m\u001B[0m \u001B[1m1s\u001B[0m 309ms/step - accuracy: 0.2042 - loss: 1.7937 - val_accuracy: 0.2632 - val_loss: 1.8486\n",
      "Epoch 5/10\n",
      "\u001B[1m3/3\u001B[0m \u001B[32m━━━━━━━━━━━━━━━━━━━━\u001B[0m\u001B[37m\u001B[0m \u001B[1m1s\u001B[0m 238ms/step - accuracy: 0.2314 - loss: 1.7932 - val_accuracy: 0.1579 - val_loss: 1.8383\n",
      "Epoch 6/10\n",
      "\u001B[1m3/3\u001B[0m \u001B[32m━━━━━━━━━━━━━━━━━━━━\u001B[0m\u001B[37m\u001B[0m \u001B[1m1s\u001B[0m 186ms/step - accuracy: 0.2536 - loss: 1.7640 - val_accuracy: 0.2105 - val_loss: 1.8371\n",
      "Epoch 7/10\n",
      "\u001B[1m3/3\u001B[0m \u001B[32m━━━━━━━━━━━━━━━━━━━━\u001B[0m\u001B[37m\u001B[0m \u001B[1m1s\u001B[0m 183ms/step - accuracy: 0.3382 - loss: 1.7335 - val_accuracy: 0.2105 - val_loss: 1.8452\n",
      "Epoch 8/10\n",
      "\u001B[1m3/3\u001B[0m \u001B[32m━━━━━━━━━━━━━━━━━━━━\u001B[0m\u001B[37m\u001B[0m \u001B[1m1s\u001B[0m 268ms/step - accuracy: 0.3673 - loss: 1.7162 - val_accuracy: 0.2105 - val_loss: 1.8449\n",
      "Epoch 9/10\n",
      "\u001B[1m3/3\u001B[0m \u001B[32m━━━━━━━━━━━━━━━━━━━━\u001B[0m\u001B[37m\u001B[0m \u001B[1m1s\u001B[0m 257ms/step - accuracy: 0.2846 - loss: 1.7531 - val_accuracy: 0.2105 - val_loss: 1.8334\n",
      "Epoch 10/10\n",
      "\u001B[1m3/3\u001B[0m \u001B[32m━━━━━━━━━━━━━━━━━━━━\u001B[0m\u001B[37m\u001B[0m \u001B[1m1s\u001B[0m 291ms/step - accuracy: 0.2795 - loss: 1.7397 - val_accuracy: 0.2105 - val_loss: 1.8192\n",
      "vgg16 - Fold 5 Validation Accuracy: 0.2105\n",
      "\n",
      "vgg16 - Mean Accuracy: 0.1674 (±0.1080)\n"
     ]
    }
   ],
   "execution_count": 18
  },
  {
   "cell_type": "code",
   "execution_count": 14,
   "id": "60ef57bbea0ac27a",
   "metadata": {},
   "outputs": [],
   "source": [
    "# Feature Extraction using SURF or ORB\n",
    "def extract_features(img_dir, use_surf=True):\n",
    "    feature_extractor = cv2.xfeatures2d.SURF_create() if use_surf else cv2.ORB_create()\n",
    "    features, labels = [], []\n",
    "    class_labels = os.listdir(img_dir)\n",
    "    for label in class_labels:\n",
    "        class_path = os.path.join(img_dir, label)\n",
    "        for img_name in os.listdir(class_path):\n",
    "            img_path = os.path.join(class_path, img_name)\n",
    "            img = cv2.imread(img_path, cv2.IMREAD_GRAYSCALE)\n",
    "            img = cv2.resize(img, (224, 224))\n",
    "            keypoints, descriptors = feature_extractor.detectAndCompute(img, None)\n",
    "            if descriptors is not None:\n",
    "                features.append(descriptors.flatten())\n",
    "                labels.append(label)\n",
    "    return np.array(features, dtype=object), np.array(labels)\n",
    "            if descriptors is not None:\n",
    "                features.append(descriptors.flatten())\n",
    "                labels.append(label)\n",
    "\n",
    "    return np.array(features, dtype=object), np.array(labels)"
   ]
  },
  {
   "cell_type": "code",
   "execution_count": 15,
   "id": "e661c28207897ca8",
   "metadata": {},
   "outputs": [],
   "source": [
    "X, y = extract_features(dataset_dir, use_surf=False)\n",
    "X_train, X_test, y_train, y_test = train_test_split(X, y, test_size=0.2, random_state=42)"
   ]
  },
  {
   "cell_type": "code",
   "execution_count": 16,
   "id": "8b862d9bf04c609d",
   "metadata": {},
   "outputs": [
    {
     "name": "stdout",
     "output_type": "stream",
     "text": [
      "SVM Accuracy: 0.2216\n",
      "KNN Accuracy: 0.1690\n",
      "Decision Tree Accuracy: 0.1269\n",
      "Random Forest Accuracy: 0.1895\n"
     ]
    }
   ],
   "source": [
    "models = {\n",
    "    \"SVM\": SVC(kernel='linear'),\n",
    "    \"KNN\": KNeighborsClassifier(n_neighbors=3),\n",
    "    \"Decision Tree\": DecisionTreeClassifier(),\n",
    "    \"Random Forest\": RandomForestClassifier(n_estimators=100)\n",
    "}\n",
    "\n",
    "for name, clf in models.items():\n",
    "    scores = cross_val_score(clf, X_train, y_train, cv=5)\n",
    "    print(f\"{name} Accuracy: {scores.mean():.4f}\")"
   ]
  },
  {
   "cell_type": "code",
   "execution_count": null,
   "id": "a64711e7-8f8f-4d43-a978-0ed932db9d63",
   "metadata": {},
   "outputs": [],
   "source": []
  }
 ],
 "metadata": {
  "kernelspec": {
   "display_name": "Python 3 (ipykernel)",
   "language": "python",
   "name": "python3"
  },
  "language_info": {
   "codemirror_mode": {
    "name": "ipython",
    "version": 3
   },
   "file_extension": ".py",
   "mimetype": "text/x-python",
   "name": "python",
   "nbconvert_exporter": "python",
   "pygments_lexer": "ipython3",
   "version": "3.10.12"
  }
 },
 "nbformat": 4,
 "nbformat_minor": 5
}
